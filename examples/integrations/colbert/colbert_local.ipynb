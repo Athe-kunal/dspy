{
 "cells": [
  {
   "cell_type": "markdown",
   "metadata": {},
   "source": [
    "## IN THIS NOTEBOOK, WE WILL EXPLORE THE COLBERT AS A RERANKER AND RETRIEVER IN LOCAL MODE. "
   ]
  },
  {
   "cell_type": "markdown",
   "metadata": {},
   "source": [
    "* If you want to build a server from your colbert local index, please refer [here](https://github.com/stanford-futuredata/ColBERT/blob/main/server.py)"
   ]
  },
  {
   "cell_type": "code",
   "execution_count": 1,
   "metadata": {},
   "outputs": [
    {
     "name": "stderr",
     "output_type": "stream",
     "text": [
      "/home/athekunal/DSPy-contributions/.venv/lib/python3.10/site-packages/tqdm/auto.py:21: TqdmWarning: IProgress not found. Please update jupyter and ipywidgets. See https://ipywidgets.readthedocs.io/en/stable/user_install.html\n",
      "  from .autonotebook import tqdm as notebook_tqdm\n"
     ]
    },
    {
     "name": "stdout",
     "output_type": "stream",
     "text": [
      "ColBERTConfig(query_token_id='[unused0]', doc_token_id='[unused1]', query_token='[Q]', doc_token='[D]', ncells=None, centroid_score_threshold=None, ndocs=None, load_index_with_mmap=False, index_path=None, index_bsize=64, nbits=1, kmeans_niters=4, resume=False, similarity='cosine', bsize=32, accumsteps=1, lr=3e-06, maxsteps=500000, save_every=None, warmup=None, warmup_bert=None, relu=False, nway=2, use_ib_negatives=False, reranker=False, distillation_alpha=1.0, ignore_scores=False, model_name=None, query_maxlen=32, attend_to_mask_tokens=False, interaction='colbert', dim=128, doc_maxlen=220, mask_punctuation=True, checkpoint=None, triples=None, collection=None, queries=None, index_name=None, overwrite=False, root='/home/athekunal/DSPy-contributions/dspy/examples/integrations/colbert/experiments', experiment='default', index_root=None, name='2024-04/09/20.41.14', rank=0, nranks=1, amp=True, gpus=1, avoid_fork_if_possible=False)\n"
     ]
    }
   ],
   "source": [
    "from colbert.infra.config import ColBERTConfig\n",
    "\n",
    "print(ColBERTConfig())"
   ]
  },
  {
   "cell_type": "markdown",
   "metadata": {},
   "source": [
    "## Let's review the colbert config class"
   ]
  },
  {
   "cell_type": "code",
   "execution_count": 2,
   "metadata": {},
   "outputs": [
    {
     "name": "stdout",
     "output_type": "stream",
     "text": [
      "query_token_id --> [unused0]\n",
      "doc_token_id --> [unused1]\n",
      "query_token --> [Q]\n",
      "doc_token --> [D]\n",
      "ncells --> None\n",
      "centroid_score_threshold --> None\n",
      "ndocs --> None\n",
      "load_index_with_mmap --> False\n",
      "index_path --> None\n",
      "index_bsize --> 64\n",
      "nbits --> 1\n",
      "kmeans_niters --> 4\n",
      "resume --> False\n",
      "similarity --> cosine\n",
      "bsize --> 32\n",
      "accumsteps --> 1\n",
      "lr --> 3e-06\n",
      "maxsteps --> 500000\n",
      "save_every --> None\n",
      "warmup --> None\n",
      "warmup_bert --> None\n",
      "relu --> False\n",
      "nway --> 2\n",
      "use_ib_negatives --> False\n",
      "reranker --> False\n",
      "distillation_alpha --> 1.0\n",
      "ignore_scores --> False\n",
      "model_name --> None\n",
      "query_maxlen --> 32\n",
      "attend_to_mask_tokens --> False\n",
      "interaction --> colbert\n",
      "dim --> 128\n",
      "doc_maxlen --> 220\n",
      "mask_punctuation --> True\n",
      "checkpoint --> None\n",
      "triples --> None\n",
      "collection --> None\n",
      "queries --> None\n",
      "index_name --> None\n",
      "overwrite --> False\n",
      "root --> /home/athekunal/DSPy-contributions/dspy/examples/integrations/colbert/experiments\n",
      "experiment --> default\n",
      "index_root --> None\n",
      "name --> 2024-04/09/20.41.14\n",
      "rank --> 0\n",
      "nranks --> 1\n",
      "amp --> True\n",
      "gpus --> 1\n",
      "avoid_fork_if_possible --> False\n",
      "assigned --> {}\n"
     ]
    }
   ],
   "source": [
    "for k,v in ColBERTConfig().__dict__.items():\n",
    "    print(f\"{k} --> {v}\")"
   ]
  },
  {
   "cell_type": "code",
   "execution_count": 3,
   "metadata": {},
   "outputs": [],
   "source": [
    "passages =  [\"It's a piece of cake.\", \"Don't put off until tomorrow what you can do today.\", 'To kill two birds with one stone.', 'Actions speak louder than words.', 'Honesty is the best policy.', 'If you want something done right, do it yourself.', 'The best things in life are free.', \"Don't count your chickens before they hatch.\", 'She sells seashells by the seashore.', 'Practice makes perfect.', \"Where there's a will, there's a way.\", 'Absence makes the heart grow fonder.', 'When the going gets tough, the tough get going.', 'A journey of a thousand miles begins with a single step.', \"You can't have your cake and eat it too.\", \"If you can't beat them, join them.\", 'Keep your friends close and your enemies closer.', \"Don't put all your eggs in one basket.\", \"All's fair in love and war.\", 'Every dog has its day.', 'All good things must come to an end.', 'Once bitten, twice shy.', \"The apple doesn't fall far from the tree.\", 'A penny saved is a penny earned.', \"Don't bite the hand that feeds you.\", 'You reap what you sow.', 'An apple a day keeps the doctor away.', \"One man's trash is another man's treasure.\", 'The squeaky wheel gets the grease.', 'A picture is worth a thousand words.', 'Fortune favors the bold.', 'Practice what you preach.', 'A watched pot never boils.', 'No pain, no gain.', \"You can't make an omelet without breaking eggs.\", \"There's no place like home.\", 'Ask and you shall receive.', 'Let sleeping dogs lie.', 'If the shoe fits, wear it.', 'Every cloud has a silver lining.', 'Look before you leap.', 'The more, the merrier.', 'The grass is always greener on the other side.', 'Beauty is only skin deep.', \"Two wrongs don't make a right.\", 'Beauty is in the eye of the beholder.', 'Necessity is the mother of invention.', 'Out of sight, out of mind.', 'Patience is a virtue.', 'Curiosity killed the cat.', \"If at first you don't succeed, try, try again.\", \"Beggars can't be choosers.\", 'Too many cooks spoil the broth.', 'Easy come, easy go.', \"Don't cry over spilled milk.\", \"There's no such thing as a free lunch.\", 'A bird in the hand is worth two in the bush.', 'Good things come to those who wait.', 'The quick brown fox jumps over the lazy dog.', 'It takes two to tango.', 'A friend in need is a friend indeed.', 'Like father, like son.', 'Let bygones be bygones.', 'Kill two birds with one stone.', 'A penny for your thoughts.', 'I am the master of my fate, I am the captain of my soul.', 'The pen is mightier than the sword.', 'When in Rome, do as the Romans do.', \"Rome wasn't built in a day.\", \"You can't judge a book by its cover.\", \"It's raining cats and dogs.\", 'Make hay while the sun shines.', \"It's better to be safe than sorry.\", 'The early bird catches the worm.', 'To be or not to be, that is the question.', 'Better late than never.']"
   ]
  },
  {
   "cell_type": "markdown",
   "metadata": {},
   "source": [
    "## This tutorial is running from the examples/integrations/tutorials folder, hence we need to add the system path for dspy"
   ]
  },
  {
   "cell_type": "code",
   "execution_count": 4,
   "metadata": {},
   "outputs": [],
   "source": [
    "import sys\n",
    "sys.path.append(\"../../..\")"
   ]
  },
  {
   "cell_type": "markdown",
   "metadata": {},
   "source": [
    "## COLBERT AS RETRIEVER"
   ]
  },
  {
   "cell_type": "code",
   "execution_count": 7,
   "metadata": {},
   "outputs": [
    {
     "name": "stdout",
     "output_type": "stream",
     "text": [
      "Building the index for experiment default with index name colbert-ir-index\n",
      "\n",
      "\n",
      "[Apr 09, 20:41:33] #> Creating directory /home/athekunal/DSPy-contributions/dspy/examples/integrations/colbert/experiments/default/indexes/colbert-ir-index \n",
      "\n",
      "\n",
      "#> Starting...\n",
      "nranks = 1 \t num_gpus = 1 \t device=0\n",
      "{\n",
      "    \"query_token_id\": \"[unused0]\",\n",
      "    \"doc_token_id\": \"[unused1]\",\n",
      "    \"query_token\": \"[Q]\",\n",
      "    \"doc_token\": \"[D]\",\n",
      "    \"ncells\": null,\n",
      "    \"centroid_score_threshold\": null,\n",
      "    \"ndocs\": null,\n",
      "    \"load_index_with_mmap\": false,\n",
      "    \"index_path\": null,\n",
      "    \"index_bsize\": 64,\n",
      "    \"nbits\": 1,\n",
      "    \"kmeans_niters\": 20,\n",
      "    \"resume\": false,\n",
      "    \"similarity\": \"cosine\",\n",
      "    \"bsize\": 64,\n",
      "    \"accumsteps\": 1,\n",
      "    \"lr\": 1e-5,\n",
      "    \"maxsteps\": 400000,\n",
      "    \"save_every\": null,\n",
      "    \"warmup\": 20000,\n",
      "    \"warmup_bert\": null,\n",
      "    \"relu\": false,\n",
      "    \"nway\": 64,\n",
      "    \"use_ib_negatives\": true,\n",
      "    \"reranker\": false,\n",
      "    \"distillation_alpha\": 1.0,\n",
      "    \"ignore_scores\": false,\n",
      "    \"model_name\": null,\n",
      "    \"query_maxlen\": 32,\n",
      "    \"attend_to_mask_tokens\": false,\n",
      "    \"interaction\": \"colbert\",\n",
      "    \"dim\": 128,\n",
      "    \"doc_maxlen\": 180,\n",
      "    \"mask_punctuation\": true,\n",
      "    \"checkpoint\": \"colbert-ir\\/colbertv2.0\",\n",
      "    \"triples\": \"\\/future\\/u\\/okhattab\\/root\\/unit\\/experiments\\/2021.10\\/downstream.distillation.round2.2_score\\/round2.nway6.cosine.ib\\/examples.64.json\",\n",
      "    \"collection\": [\n",
      "        \"It's a piece of cake.\",\n",
      "        \"Don't put off until tomorrow what you can do today.\",\n",
      "        \"To kill two birds with one stone.\",\n",
      "        \"Actions speak louder than words.\",\n",
      "        \"Honesty is the best policy.\",\n",
      "        \"If you want something done right, do it yourself.\",\n",
      "        \"The best things in life are free.\",\n",
      "        \"Don't count your chickens before they hatch.\",\n",
      "        \"She sells seashells by the seashore.\",\n",
      "        \"Practice makes perfect.\",\n",
      "        \"Where there's a will, there's a way.\",\n",
      "        \"Absence makes the heart grow fonder.\",\n",
      "        \"When the going gets tough, the tough get going.\",\n",
      "        \"A journey of a thousand miles begins with a single step.\",\n",
      "        \"You can't have your cake and eat it too.\",\n",
      "        \"If you can't beat them, join them.\",\n",
      "        \"Keep your friends close and your enemies closer.\",\n",
      "        \"Don't put all your eggs in one basket.\",\n",
      "        \"All's fair in love and war.\",\n",
      "        \"Every dog has its day.\",\n",
      "        \"All good things must come to an end.\",\n",
      "        \"Once bitten, twice shy.\",\n",
      "        \"The apple doesn't fall far from the tree.\",\n",
      "        \"A penny saved is a penny earned.\",\n",
      "        \"Don't bite the hand that feeds you.\",\n",
      "        \"You reap what you sow.\",\n",
      "        \"An apple a day keeps the doctor away.\",\n",
      "        \"One man's trash is another man's treasure.\",\n",
      "        \"The squeaky wheel gets the grease.\",\n",
      "        \"A picture is worth a thousand words.\",\n",
      "        \"Fortune favors the bold.\",\n",
      "        \"Practice what you preach.\",\n",
      "        \"A watched pot never boils.\",\n",
      "        \"No pain, no gain.\",\n",
      "        \"You can't make an omelet without breaking eggs.\",\n",
      "        \"There's no place like home.\",\n",
      "        \"Ask and you shall receive.\",\n",
      "        \"Let sleeping dogs lie.\",\n",
      "        \"If the shoe fits, wear it.\",\n",
      "        \"Every cloud has a silver lining.\",\n",
      "        \"Look before you leap.\",\n",
      "        \"The more, the merrier.\",\n",
      "        \"The grass is always greener on the other side.\",\n",
      "        \"Beauty is only skin deep.\",\n",
      "        \"Two wrongs don't make a right.\",\n",
      "        \"Beauty is in the eye of the beholder.\",\n",
      "        \"Necessity is the mother of invention.\",\n",
      "        \"Out of sight, out of mind.\",\n",
      "        \"Patience is a virtue.\",\n",
      "        \"Curiosity killed the cat.\",\n",
      "        \"If at first you don't succeed, try, try again.\",\n",
      "        \"Beggars can't be choosers.\",\n",
      "        \"Too many cooks spoil the broth.\",\n",
      "        \"Easy come, easy go.\",\n",
      "        \"Don't cry over spilled milk.\",\n",
      "        \"There's no such thing as a free lunch.\",\n",
      "        \"A bird in the hand is worth two in the bush.\",\n",
      "        \"Good things come to those who wait.\",\n",
      "        \"The quick brown fox jumps over the lazy dog.\",\n",
      "        \"It takes two to tango.\",\n",
      "        \"A friend in need is a friend indeed.\",\n",
      "        \"Like father, like son.\",\n",
      "        \"Let bygones be bygones.\",\n",
      "        \"Kill two birds with one stone.\",\n",
      "        \"A penny for your thoughts.\",\n",
      "        \"I am the master of my fate, I am the captain of my soul.\",\n",
      "        \"The pen is mightier than the sword.\",\n",
      "        \"When in Rome, do as the Romans do.\",\n",
      "        \"Rome wasn't built in a day.\",\n",
      "        \"You can't judge a book by its cover.\",\n",
      "        \"It's raining cats and dogs.\",\n",
      "        \"Make hay while the sun shines.\",\n",
      "        \"It's better to be safe than sorry.\",\n",
      "        \"The early bird catches the worm.\",\n",
      "        \"To be or not to be, that is the question.\",\n",
      "        \"Better late than never.\"\n",
      "    ],\n",
      "    \"queries\": \"\\/future\\/u\\/okhattab\\/data\\/MSMARCO\\/queries.train.tsv\",\n",
      "    \"index_name\": \"colbert-ir-index\",\n",
      "    \"overwrite\": false,\n",
      "    \"root\": \"\\/home\\/athekunal\\/DSPy-contributions\\/dspy\\/examples\\/integrations\\/colbert\\/experiments\",\n",
      "    \"experiment\": \"default\",\n",
      "    \"index_root\": null,\n",
      "    \"name\": \"2024-04\\/09\\/20.41.14\",\n",
      "    \"rank\": 0,\n",
      "    \"nranks\": 1,\n",
      "    \"amp\": true,\n",
      "    \"gpus\": 1,\n",
      "    \"avoid_fork_if_possible\": false\n",
      "}\n",
      "[Apr 09, 20:41:37] [0] \t\t # of sampled PIDs = 76 \t sampled_pids[:3] = [53, 1, 38]\n",
      "[Apr 09, 20:41:37] [0] \t\t #> Encoding 76 passages..\n",
      "[Apr 09, 20:41:38] [0] \t\t avg_doclen_est = 10.078947067260742 \t len(local_sample) = 76\n",
      "[Apr 09, 20:41:38] [0] \t\t Creating 256 partitions.\n",
      "[Apr 09, 20:41:38] [0] \t\t *Estimated* 765 embeddings.\n",
      "[Apr 09, 20:41:38] [0] \t\t #> Saving the indexing plan to /home/athekunal/DSPy-contributions/dspy/examples/integrations/colbert/experiments/default/indexes/colbert-ir-index/plan.json ..\n",
      "Clustering 728 points in 128D to 256 clusters, redo 1 times, 20 iterations\n",
      "  Preprocessing in 0.00 s\n",
      "  Iteration 19 (0.05 s, search 0.05 s): objective=155.376 imbalance=1.400 nsplit=0       \n",
      "[Apr 09, 20:41:39] Loading decompress_residuals_cpp extension (set COLBERT_LOAD_TORCH_EXTENSION_VERBOSE=True for more info)...\n",
      "ninja: no work to do.\n"
     ]
    },
    {
     "name": "stderr",
     "output_type": "stream",
     "text": [
      "WARNING clustering 728 points to 256 centroids: please provide at least 9984 training points\n",
      "Using /home/athekunal/.cache/torch_extensions/py310_cu117 as PyTorch extensions root...\n",
      "Detected CUDA files, patching ldflags\n",
      "Emitting ninja build file /home/athekunal/.cache/torch_extensions/py310_cu117/decompress_residuals_cpp/build.ninja...\n",
      "Building extension module decompress_residuals_cpp...\n",
      "Allowing ninja to set a default number of workers... (overridable by setting the environment variable MAX_JOBS=N)\n",
      "Loading extension module decompress_residuals_cpp...\n"
     ]
    },
    {
     "name": "stdout",
     "output_type": "stream",
     "text": [
      "[Apr 09, 20:41:39] Loading packbits_cpp extension (set COLBERT_LOAD_TORCH_EXTENSION_VERBOSE=True for more info)...\n",
      "ninja: no work to do.\n",
      "[0.053, 0.05, 0.061, 0.053, 0.044, 0.06, 0.047, 0.049, 0.064, 0.05, 0.051, 0.057, 0.052, 0.042, 0.061, 0.069, 0.052, 0.051, 0.063, 0.043, 0.04, 0.052, 0.043, 0.042, 0.035, 0.055, 0.07, 0.048, 0.051, 0.04, 0.057, 0.045, 0.054, 0.052, 0.042, 0.051, 0.048, 0.047, 0.056, 0.059, 0.05, 0.063, 0.054, 0.06, 0.046, 0.051, 0.04, 0.071, 0.04, 0.049, 0.056, 0.043, 0.048, 0.051, 0.045, 0.052, 0.041, 0.073, 0.039, 0.045, 0.052, 0.056, 0.053, 0.06, 0.041, 0.053, 0.054, 0.052, 0.051, 0.05, 0.061, 0.053, 0.035, 0.05, 0.049, 0.057, 0.045, 0.044, 0.05, 0.05, 0.041, 0.048, 0.043, 0.049, 0.05, 0.039, 0.056, 0.055, 0.048, 0.045, 0.044, 0.041, 0.046, 0.044, 0.046, 0.064, 0.056, 0.054, 0.058, 0.04, 0.043, 0.045, 0.051, 0.058, 0.06, 0.043, 0.057, 0.043, 0.053, 0.056, 0.047, 0.039, 0.057, 0.044, 0.055, 0.063, 0.041, 0.047, 0.049, 0.051, 0.046, 0.042, 0.053, 0.045, 0.044, 0.053, 0.053, 0.046]\n",
      "[Apr 09, 20:41:39] #> Got bucket_cutoffs_quantiles = tensor([0.5000], device='cuda:0') and bucket_weights_quantiles = tensor([0.2500, 0.7500], device='cuda:0')\n",
      "[Apr 09, 20:41:39] #> Got bucket_cutoffs = tensor([0.0007], device='cuda:0') and bucket_weights = tensor([-0.0378,  0.0386], device='cuda:0')\n",
      "[Apr 09, 20:41:39] avg_residual = 0.050323486328125\n",
      "[Apr 09, 20:41:40] [0] \t\t #> Encoding 76 passages..\n"
     ]
    },
    {
     "name": "stderr",
     "output_type": "stream",
     "text": [
      "Using /home/athekunal/.cache/torch_extensions/py310_cu117 as PyTorch extensions root...\n",
      "Detected CUDA files, patching ldflags\n",
      "Emitting ninja build file /home/athekunal/.cache/torch_extensions/py310_cu117/packbits_cpp/build.ninja...\n",
      "Building extension module packbits_cpp...\n",
      "Allowing ninja to set a default number of workers... (overridable by setting the environment variable MAX_JOBS=N)\n",
      "Loading extension module packbits_cpp...\n",
      "0it [00:00, ?it/s]"
     ]
    },
    {
     "name": "stdout",
     "output_type": "stream",
     "text": [
      "[Apr 09, 20:41:40] [0] \t\t #> Saving chunk 0: \t 76 passages and 766 embeddings. From #0 onward.\n",
      "[Apr 09, 20:41:40] [0] \t\t #> Checking all files were saved...\n",
      "[Apr 09, 20:41:40] [0] \t\t Found all files!\n",
      "[Apr 09, 20:41:40] [0] \t\t #> Building IVF...\n",
      "[Apr 09, 20:41:40] [0] \t\t #> Loading codes...\n",
      "[Apr 09, 20:41:40] [0] \t\t Sorting codes...\n",
      "[Apr 09, 20:41:40] [0] \t\t Getting unique codes...\n",
      "[Apr 09, 20:41:40] #> Optimizing IVF to store map from centroids to list of pids..\n",
      "[Apr 09, 20:41:40] #> Building the emb2pid mapping..\n",
      "[Apr 09, 20:41:40] len(emb2pid) = 766\n",
      "[Apr 09, 20:41:40] #> Saved optimized IVF to /home/athekunal/DSPy-contributions/dspy/examples/integrations/colbert/experiments/default/indexes/colbert-ir-index/ivf.pid.pt\n",
      "[Apr 09, 20:41:40] [0] \t\t #> Saving the indexing metadata to /home/athekunal/DSPy-contributions/dspy/examples/integrations/colbert/experiments/default/indexes/colbert-ir-index/metadata.json ..\n"
     ]
    },
    {
     "name": "stderr",
     "output_type": "stream",
     "text": [
      "1it [00:00, 13.04it/s]\n",
      "100%|██████████| 1/1 [00:00<00:00, 3336.76it/s]\n",
      "100%|██████████| 256/256 [00:00<00:00, 267565.87it/s]\n"
     ]
    },
    {
     "name": "stdout",
     "output_type": "stream",
     "text": [
      "#> Joined...\n",
      "Loading the index for experiment default with index name colbert-ir-index\n",
      "[Apr 09, 20:41:43] #> Loading codec...\n",
      "[Apr 09, 20:41:43] Loading decompress_residuals_cpp extension (set COLBERT_LOAD_TORCH_EXTENSION_VERBOSE=True for more info)...\n"
     ]
    },
    {
     "name": "stderr",
     "output_type": "stream",
     "text": [
      "Using /home/athekunal/.cache/torch_extensions/py310_cu117 as PyTorch extensions root...\n",
      "Detected CUDA files, patching ldflags\n",
      "Emitting ninja build file /home/athekunal/.cache/torch_extensions/py310_cu117/decompress_residuals_cpp/build.ninja...\n",
      "Building extension module decompress_residuals_cpp...\n",
      "Allowing ninja to set a default number of workers... (overridable by setting the environment variable MAX_JOBS=N)\n"
     ]
    },
    {
     "name": "stdout",
     "output_type": "stream",
     "text": [
      "ninja: no work to do.\n",
      "[Apr 09, 20:41:43] Loading packbits_cpp extension (set COLBERT_LOAD_TORCH_EXTENSION_VERBOSE=True for more info)...\n"
     ]
    },
    {
     "name": "stderr",
     "output_type": "stream",
     "text": [
      "Loading extension module decompress_residuals_cpp...\n",
      "Using /home/athekunal/.cache/torch_extensions/py310_cu117 as PyTorch extensions root...\n",
      "Detected CUDA files, patching ldflags\n",
      "Emitting ninja build file /home/athekunal/.cache/torch_extensions/py310_cu117/packbits_cpp/build.ninja...\n",
      "Building extension module packbits_cpp...\n",
      "Allowing ninja to set a default number of workers... (overridable by setting the environment variable MAX_JOBS=N)\n"
     ]
    },
    {
     "name": "stdout",
     "output_type": "stream",
     "text": [
      "ninja: no work to do.\n",
      "[Apr 09, 20:41:43] #> Loading IVF...\n",
      "[Apr 09, 20:41:43] #> Loading doclens...\n"
     ]
    },
    {
     "name": "stderr",
     "output_type": "stream",
     "text": [
      "Loading extension module packbits_cpp...\n",
      "100%|██████████| 1/1 [00:00<00:00, 2012.62it/s]"
     ]
    },
    {
     "name": "stdout",
     "output_type": "stream",
     "text": [
      "[Apr 09, 20:41:43] #> Loading codes and residuals...\n"
     ]
    },
    {
     "name": "stderr",
     "output_type": "stream",
     "text": [
      "\n",
      "100%|██████████| 1/1 [00:00<00:00, 722.16it/s]\n"
     ]
    }
   ],
   "source": [
    "import dspy\n",
    "colbert_config = ColBERTConfig()\n",
    "colbert_retriever = dspy.ColBERTv2RetrieverLocal(\n",
    "    checkpoint='colbert-ir/colbertv2.0',passages = passages,load_only=False,\n",
    "    index_name='colbert-ir-index',colbert_config=colbert_config\n",
    ")"
   ]
  },
  {
   "cell_type": "code",
   "execution_count": 8,
   "metadata": {},
   "outputs": [],
   "source": [
    "#CONFIGURE COLBERT IN DSPY\n",
    "dspy.settings.configure(rm=colbert_retriever)\n",
    "\n",
    "retrieved_docs = dspy.Retrieve(k=5)"
   ]
  },
  {
   "cell_type": "code",
   "execution_count": 10,
   "metadata": {},
   "outputs": [
    {
     "name": "stderr",
     "output_type": "stream",
     "text": [
      "/home/athekunal/DSPy-contributions/dspy/examples/integrations/colbert/../../../dsp/primitives/search.py:74: UserWarning: If you want to use the Reranker, please use dspy.RetrieveThenRerank. The reranking is ignored here.\n",
      "  warnings.warn(\"If you want to use the Reranker, please use dspy.RetrieveThenRerank. The reranking is ignored here.\")\n",
      "/home/athekunal/DSPy-contributions/dspy/examples/integrations/colbert/../../../dsp/primitives/search.py:13: UserWarning: If you want to use the Reranker, please use dspy.RetrieveThenRerank\n",
      "  warnings.warn(\"If you want to use the Reranker, please use dspy.RetrieveThenRerank\")\n"
     ]
    }
   ],
   "source": [
    "pred = retrieved_docs(\n",
    "    \"What is the meaning of life?\"\n",
    ")"
   ]
  },
  {
   "cell_type": "code",
   "execution_count": 11,
   "metadata": {},
   "outputs": [
    {
     "data": {
      "text/plain": [
       "Prediction(\n",
       "    score=[nan, nan, nan, nan, nan],\n",
       "    pid=[33, 6, 47, 74, 48],\n",
       "    passages=['No pain, no gain.', 'The best things in life are free.', 'Out of sight, out of mind.', 'To be or not to be, that is the question.', 'Patience is a virtue.']\n",
       ")"
      ]
     },
     "execution_count": 11,
     "metadata": {},
     "output_type": "execute_result"
    }
   ],
   "source": [
    "pred"
   ]
  },
  {
   "cell_type": "markdown",
   "metadata": {},
   "source": [
    "## COLBERT AS RERANKER"
   ]
  },
  {
   "cell_type": "code",
   "execution_count": 14,
   "metadata": {},
   "outputs": [],
   "source": [
    "colbert_config = ColBERTConfig()\n",
    "colbert_config.index_name = 'colbert-ir-index'\n",
    "colbert_reranker = dspy.ColBERTv2RerankerLocal(\n",
    "    checkpoint='colbert-ir/colbertv2.0',colbert_config=colbert_config)"
   ]
  },
  {
   "cell_type": "code",
   "execution_count": 15,
   "metadata": {},
   "outputs": [],
   "source": [
    "dspy.settings.configure(rm=colbert_retriever,reranker=colbert_reranker)\n",
    "\n",
    "retrieve_rerank = dspy.RetrieveThenRerank(k=5)"
   ]
  },
  {
   "cell_type": "code",
   "execution_count": 17,
   "metadata": {},
   "outputs": [],
   "source": [
    "pred = retrieve_rerank(\n",
    "    [\"What is the meaning of life?\",\"Meaning of pain?\"]\n",
    ")"
   ]
  },
  {
   "cell_type": "code",
   "execution_count": 18,
   "metadata": {},
   "outputs": [
    {
     "data": {
      "text/plain": [
       "[Prediction(\n",
       "     score=[nan, nan, nan, nan, nan],\n",
       "     pid=[6, 48, 74, 47, 33],\n",
       "     rerank_score=[15.8359375, 14.2109375, 12.5703125, 11.7890625, 9.1796875],\n",
       "     passages=['The best things in life are free.', 'Patience is a virtue.', 'To be or not to be, that is the question.', 'Out of sight, out of mind.', 'No pain, no gain.']\n",
       " ),\n",
       " Prediction(\n",
       "     score=[nan, nan, nan, nan, nan],\n",
       "     pid=[33, 0, 47, 74, 16],\n",
       "     rerank_score=[19.828125, 12.2890625, 11.171875, 9.09375, 6.8984375],\n",
       "     passages=['No pain, no gain.', \"It's a piece of cake.\", 'Out of sight, out of mind.', 'To be or not to be, that is the question.', 'Keep your friends close and your enemies closer.']\n",
       " )]"
      ]
     },
     "execution_count": 18,
     "metadata": {},
     "output_type": "execute_result"
    }
   ],
   "source": [
    "pred"
   ]
  },
  {
   "cell_type": "markdown",
   "metadata": {},
   "source": [
    "## YOU CAN ALSO COLBERT RERANKER AS STANDALONE MODEL"
   ]
  },
  {
   "cell_type": "code",
   "execution_count": 25,
   "metadata": {},
   "outputs": [],
   "source": [
    "import numpy as np\n",
    "import tabulate\n",
    "\n",
    "scores_arr = colbert_reranker(\n",
    "    \"What is the meaning of life and pain?\",\n",
    "    passages\n",
    ")\n",
    "\n",
    "tabulate_data = []\n",
    "for idx in np.argsort(scores_arr)[::-1]:\n",
    "    # print(f\"Passage = {passages[idx]} --> Score = {scores_arr[idx]}\")\n",
    "    tabulate_data.append([passages[idx],scores_arr[idx]])\n",
    "\n",
    "table = tabulate.tabulate(tabulate_data,tablefmt=\"html\",headers={'sentence','score'})"
   ]
  },
  {
   "cell_type": "code",
   "execution_count": 26,
   "metadata": {},
   "outputs": [
    {
     "data": {
      "text/html": [
       "<table>\n",
       "<thead>\n",
       "<tr><th>score                                                   </th><th style=\"text-align: right;\">  sentence</th></tr>\n",
       "</thead>\n",
       "<tbody>\n",
       "<tr><td>No pain, no gain.                                       </td><td style=\"text-align: right;\">  16.4844 </td></tr>\n",
       "<tr><td>The best things in life are free.                       </td><td style=\"text-align: right;\">  12.5156 </td></tr>\n",
       "<tr><td>Patience is a virtue.                                   </td><td style=\"text-align: right;\">  11.7578 </td></tr>\n",
       "<tr><td>It&#x27;s better to be safe than sorry.                      </td><td style=\"text-align: right;\">  11.2109 </td></tr>\n",
       "<tr><td>A friend in need is a friend indeed.                    </td><td style=\"text-align: right;\">  10.4609 </td></tr>\n",
       "<tr><td>Out of sight, out of mind.                              </td><td style=\"text-align: right;\">  10.3516 </td></tr>\n",
       "<tr><td>Once bitten, twice shy.                                 </td><td style=\"text-align: right;\">  10      </td></tr>\n",
       "<tr><td>It&#x27;s a piece of cake.                                   </td><td style=\"text-align: right;\">  10      </td></tr>\n",
       "<tr><td>All&#x27;s fair in love and war.                             </td><td style=\"text-align: right;\">   9.92188</td></tr>\n",
       "<tr><td>All good things must come to an end.                    </td><td style=\"text-align: right;\">   9.92188</td></tr>\n",
       "<tr><td>A penny for your thoughts.                              </td><td style=\"text-align: right;\">   9.72656</td></tr>\n",
       "<tr><td>When the going gets tough, the tough get going.         </td><td style=\"text-align: right;\">   9.60938</td></tr>\n",
       "<tr><td>Beauty is in the eye of the beholder.                   </td><td style=\"text-align: right;\">   9.49219</td></tr>\n",
       "<tr><td>Necessity is the mother of invention.                   </td><td style=\"text-align: right;\">   9.45312</td></tr>\n",
       "<tr><td>Beauty is only skin deep.                               </td><td style=\"text-align: right;\">   9.44531</td></tr>\n",
       "<tr><td>The more, the merrier.                                  </td><td style=\"text-align: right;\">   9.21094</td></tr>\n",
       "<tr><td>A picture is worth a thousand words.                    </td><td style=\"text-align: right;\">   8.90625</td></tr>\n",
       "<tr><td>Ask and you shall receive.                              </td><td style=\"text-align: right;\">   8.67969</td></tr>\n",
       "<tr><td>Easy come, easy go.                                     </td><td style=\"text-align: right;\">   8.64062</td></tr>\n",
       "<tr><td>Better late than never.                                 </td><td style=\"text-align: right;\">   8.61719</td></tr>\n",
       "<tr><td>You reap what you sow.                                  </td><td style=\"text-align: right;\">   8.57812</td></tr>\n",
       "<tr><td>An apple a day keeps the doctor away.                   </td><td style=\"text-align: right;\">   8.54688</td></tr>\n",
       "<tr><td>Good things come to those who wait.                     </td><td style=\"text-align: right;\">   8.39844</td></tr>\n",
       "<tr><td>To be or not to be, that is the question.               </td><td style=\"text-align: right;\">   8.34375</td></tr>\n",
       "<tr><td>Practice makes perfect.                                 </td><td style=\"text-align: right;\">   8.27344</td></tr>\n",
       "<tr><td>Where there&#x27;s a will, there&#x27;s a way.                    </td><td style=\"text-align: right;\">   8.21094</td></tr>\n",
       "<tr><td>Keep your friends close and your enemies closer.        </td><td style=\"text-align: right;\">   8.19531</td></tr>\n",
       "<tr><td>Like father, like son.                                  </td><td style=\"text-align: right;\">   7.76172</td></tr>\n",
       "<tr><td>Honesty is the best policy.                             </td><td style=\"text-align: right;\">   7.57422</td></tr>\n",
       "<tr><td>To kill two birds with one stone.                       </td><td style=\"text-align: right;\">   7.51953</td></tr>\n",
       "<tr><td>A penny saved is a penny earned.                        </td><td style=\"text-align: right;\">   7.44922</td></tr>\n",
       "<tr><td>The grass is always greener on the other side.          </td><td style=\"text-align: right;\">   7.38281</td></tr>\n",
       "<tr><td>If at first you don&#x27;t succeed, try, try again.          </td><td style=\"text-align: right;\">   7.32812</td></tr>\n",
       "<tr><td>A journey of a thousand miles begins with a single step.</td><td style=\"text-align: right;\">   7.26953</td></tr>\n",
       "<tr><td>Actions speak louder than words.                        </td><td style=\"text-align: right;\">   7.05469</td></tr>\n",
       "<tr><td>There&#x27;s no place like home.                             </td><td style=\"text-align: right;\">   7.01562</td></tr>\n",
       "<tr><td>Practice what you preach.                               </td><td style=\"text-align: right;\">   7.00781</td></tr>\n",
       "<tr><td>One man&#x27;s trash is another man&#x27;s treasure.              </td><td style=\"text-align: right;\">   6.89062</td></tr>\n",
       "<tr><td>Every dog has its day.                                  </td><td style=\"text-align: right;\">   6.81641</td></tr>\n",
       "<tr><td>There&#x27;s no such thing as a free lunch.                  </td><td style=\"text-align: right;\">   6.78125</td></tr>\n",
       "<tr><td>Absence makes the heart grow fonder.                    </td><td style=\"text-align: right;\">   6.72656</td></tr>\n",
       "<tr><td>When in Rome, do as the Romans do.                      </td><td style=\"text-align: right;\">   6.60156</td></tr>\n",
       "<tr><td>I am the master of my fate, I am the captain of my soul.</td><td style=\"text-align: right;\">   6.54688</td></tr>\n",
       "<tr><td>If you want something done right, do it yourself.       </td><td style=\"text-align: right;\">   6.52344</td></tr>\n",
       "<tr><td>Look before you leap.                                   </td><td style=\"text-align: right;\">   6.39844</td></tr>\n",
       "<tr><td>You can&#x27;t judge a book by its cover.                    </td><td style=\"text-align: right;\">   6.24219</td></tr>\n",
       "<tr><td>The pen is mightier than the sword.                     </td><td style=\"text-align: right;\">   6.07422</td></tr>\n",
       "<tr><td>Let bygones be bygones.                                 </td><td style=\"text-align: right;\">   6.00781</td></tr>\n",
       "<tr><td>Two wrongs don&#x27;t make a right.                          </td><td style=\"text-align: right;\">   5.96094</td></tr>\n",
       "<tr><td>Rome wasn&#x27;t built in a day.                             </td><td style=\"text-align: right;\">   5.64453</td></tr>\n",
       "<tr><td>It&#x27;s raining cats and dogs.                             </td><td style=\"text-align: right;\">   5.5    </td></tr>\n",
       "<tr><td>Let sleeping dogs lie.                                  </td><td style=\"text-align: right;\">   5.28125</td></tr>\n",
       "<tr><td>The early bird catches the worm.                        </td><td style=\"text-align: right;\">   5.27344</td></tr>\n",
       "<tr><td>Make hay while the sun shines.                          </td><td style=\"text-align: right;\">   5.05469</td></tr>\n",
       "<tr><td>Don&#x27;t bite the hand that feeds you.                     </td><td style=\"text-align: right;\">   5.05078</td></tr>\n",
       "<tr><td>Fortune favors the bold.                                </td><td style=\"text-align: right;\">   5.01953</td></tr>\n",
       "<tr><td>If you can&#x27;t beat them, join them.                      </td><td style=\"text-align: right;\">   4.97656</td></tr>\n",
       "<tr><td>Every cloud has a silver lining.                        </td><td style=\"text-align: right;\">   4.73438</td></tr>\n",
       "<tr><td>The apple doesn&#x27;t fall far from the tree.               </td><td style=\"text-align: right;\">   4.72266</td></tr>\n",
       "<tr><td>You can&#x27;t have your cake and eat it too.                </td><td style=\"text-align: right;\">   4.63672</td></tr>\n",
       "<tr><td>A bird in the hand is worth two in the bush.            </td><td style=\"text-align: right;\">   4.60156</td></tr>\n",
       "<tr><td>Kill two birds with one stone.                          </td><td style=\"text-align: right;\">   4.14062</td></tr>\n",
       "<tr><td>It takes two to tango.                                  </td><td style=\"text-align: right;\">   3.99219</td></tr>\n",
       "<tr><td>Don&#x27;t put off until tomorrow what you can do today.     </td><td style=\"text-align: right;\">   3.78711</td></tr>\n",
       "<tr><td>Curiosity killed the cat.                               </td><td style=\"text-align: right;\">   3.50781</td></tr>\n",
       "<tr><td>A watched pot never boils.                              </td><td style=\"text-align: right;\">   3.31641</td></tr>\n",
       "<tr><td>Too many cooks spoil the broth.                         </td><td style=\"text-align: right;\">   3.14258</td></tr>\n",
       "<tr><td>If the shoe fits, wear it.                              </td><td style=\"text-align: right;\">   3.10547</td></tr>\n",
       "<tr><td>Don&#x27;t cry over spilled milk.                            </td><td style=\"text-align: right;\">   3.10547</td></tr>\n",
       "<tr><td>The quick brown fox jumps over the lazy dog.            </td><td style=\"text-align: right;\">   3.08984</td></tr>\n",
       "<tr><td>Beggars can&#x27;t be choosers.                              </td><td style=\"text-align: right;\">   2.90625</td></tr>\n",
       "<tr><td>The squeaky wheel gets the grease.                      </td><td style=\"text-align: right;\">   2.86328</td></tr>\n",
       "<tr><td>She sells seashells by the seashore.                    </td><td style=\"text-align: right;\">   2.77148</td></tr>\n",
       "<tr><td>Don&#x27;t put all your eggs in one basket.                  </td><td style=\"text-align: right;\">   2.37109</td></tr>\n",
       "<tr><td>Don&#x27;t count your chickens before they hatch.            </td><td style=\"text-align: right;\">   1.82227</td></tr>\n",
       "<tr><td>You can&#x27;t make an omelet without breaking eggs.         </td><td style=\"text-align: right;\">   1.43945</td></tr>\n",
       "</tbody>\n",
       "</table>"
      ],
      "text/plain": [
       "<IPython.core.display.HTML object>"
      ]
     },
     "metadata": {},
     "output_type": "display_data"
    }
   ],
   "source": [
    "from IPython.display import HTML, display\n",
    "display(HTML(table))"
   ]
  },
  {
   "cell_type": "code",
   "execution_count": null,
   "metadata": {},
   "outputs": [],
   "source": []
  }
 ],
 "metadata": {
  "kernelspec": {
   "display_name": ".venv",
   "language": "python",
   "name": "python3"
  },
  "language_info": {
   "codemirror_mode": {
    "name": "ipython",
    "version": 3
   },
   "file_extension": ".py",
   "mimetype": "text/x-python",
   "name": "python",
   "nbconvert_exporter": "python",
   "pygments_lexer": "ipython3",
   "version": "3.10.12"
  }
 },
 "nbformat": 4,
 "nbformat_minor": 2
}
