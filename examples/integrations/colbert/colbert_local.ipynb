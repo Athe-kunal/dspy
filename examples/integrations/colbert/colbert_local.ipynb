{
 "cells": [
  {
   "cell_type": "markdown",
   "metadata": {},
   "source": [
    "## IN THIS NOTEBOOK, WE WILL EXPLORE THE COLBERT AS A RERANKER AND RETRIEVER IN LOCAL MODE. "
   ]
  },
  {
   "cell_type": "markdown",
   "metadata": {},
   "source": [
    "* If you want to build a server from your colbert local index, please refer [here](https://github.com/stanford-futuredata/ColBERT/blob/main/server.py)"
   ]
  },
  {
   "cell_type": "code",
   "execution_count": 1,
   "metadata": {},
   "outputs": [
    {
     "name": "stderr",
     "output_type": "stream",
     "text": [
      "/home/athekunal/DSPy-contributions/.venv/lib/python3.10/site-packages/tqdm/auto.py:21: TqdmWarning: IProgress not found. Please update jupyter and ipywidgets. See https://ipywidgets.readthedocs.io/en/stable/user_install.html\n",
      "  from .autonotebook import tqdm as notebook_tqdm\n"
     ]
    }
   ],
   "source": [
    "from colbert.infra.config import ColBERTConfig"
   ]
  },
  {
   "cell_type": "code",
   "execution_count": 2,
   "metadata": {},
   "outputs": [],
   "source": [
    "import os\n",
    "# You can set this environment variable for debugging purposes\n",
    "os.environ['COLBERT_LOAD_TORCH_EXTENSION_VERBOSE'] = \"True\""
   ]
  },
  {
   "cell_type": "markdown",
   "metadata": {},
   "source": [
    "## Let's review the colbert config class"
   ]
  },
  {
   "cell_type": "code",
   "execution_count": 3,
   "metadata": {},
   "outputs": [
    {
     "name": "stdout",
     "output_type": "stream",
     "text": [
      "query_token_id --> [unused0]\n",
      "doc_token_id --> [unused1]\n",
      "query_token --> [Q]\n",
      "doc_token --> [D]\n",
      "ncells --> None\n",
      "centroid_score_threshold --> None\n",
      "ndocs --> None\n",
      "load_index_with_mmap --> False\n",
      "index_path --> None\n",
      "index_bsize --> 64\n",
      "nbits --> 1\n",
      "kmeans_niters --> 4\n",
      "resume --> False\n",
      "similarity --> cosine\n",
      "bsize --> 32\n",
      "accumsteps --> 1\n",
      "lr --> 3e-06\n",
      "maxsteps --> 500000\n",
      "save_every --> None\n",
      "warmup --> None\n",
      "warmup_bert --> None\n",
      "relu --> False\n",
      "nway --> 2\n",
      "use_ib_negatives --> False\n",
      "reranker --> False\n",
      "distillation_alpha --> 1.0\n",
      "ignore_scores --> False\n",
      "model_name --> None\n",
      "query_maxlen --> 32\n",
      "attend_to_mask_tokens --> False\n",
      "interaction --> colbert\n",
      "dim --> 128\n",
      "doc_maxlen --> 220\n",
      "mask_punctuation --> True\n",
      "checkpoint --> None\n",
      "triples --> None\n",
      "collection --> None\n",
      "queries --> None\n",
      "index_name --> None\n",
      "overwrite --> False\n",
      "root --> /home/athekunal/DSPy-contributions/dspy/examples/integrations/colbert/experiments\n",
      "experiment --> default\n",
      "index_root --> None\n",
      "name --> 2024-04/13/16.46.49\n",
      "rank --> 0\n",
      "nranks --> 1\n",
      "amp --> True\n",
      "gpus --> 1\n",
      "avoid_fork_if_possible --> False\n",
      "assigned --> {}\n"
     ]
    }
   ],
   "source": [
    "# You can view the different attributes of the colbert config by uncommenting cell below\n",
    "for k,v in ColBERTConfig().__dict__.items():\n",
    "    print(f\"{k} --> {v}\")"
   ]
  },
  {
   "cell_type": "code",
   "execution_count": 4,
   "metadata": {},
   "outputs": [],
   "source": [
    "passages =  [\"It's a piece of cake.\", \"Don't put off until tomorrow what you can do today.\", 'To kill two birds with one stone.', 'Actions speak louder than words.', 'Honesty is the best policy.', 'If you want something done right, do it yourself.', 'The best things in life are free.', \"Don't count your chickens before they hatch.\", 'She sells seashells by the seashore.', 'Practice makes perfect.', \"Where there's a will, there's a way.\", 'Absence makes the heart grow fonder.', 'When the going gets tough, the tough get going.', 'A journey of a thousand miles begins with a single step.', \"You can't have your cake and eat it too.\", \"If you can't beat them, join them.\", 'Keep your friends close and your enemies closer.', \"Don't put all your eggs in one basket.\", \"All's fair in love and war.\", 'Every dog has its day.', 'All good things must come to an end.', 'Once bitten, twice shy.', \"The apple doesn't fall far from the tree.\", 'A penny saved is a penny earned.', \"Don't bite the hand that feeds you.\", 'You reap what you sow.', 'An apple a day keeps the doctor away.', \"One man's trash is another man's treasure.\", 'The squeaky wheel gets the grease.', 'A picture is worth a thousand words.', 'Fortune favors the bold.', 'Practice what you preach.', 'A watched pot never boils.', 'No pain, no gain.', \"You can't make an omelet without breaking eggs.\", \"There's no place like home.\", 'Ask and you shall receive.', 'Let sleeping dogs lie.', 'If the shoe fits, wear it.', 'Every cloud has a silver lining.', 'Look before you leap.', 'The more, the merrier.', 'The grass is always greener on the other side.', 'Beauty is only skin deep.', \"Two wrongs don't make a right.\", 'Beauty is in the eye of the beholder.', 'Necessity is the mother of invention.', 'Out of sight, out of mind.', 'Patience is a virtue.', 'Curiosity killed the cat.', \"If at first you don't succeed, try, try again.\", \"Beggars can't be choosers.\", 'Too many cooks spoil the broth.', 'Easy come, easy go.', \"Don't cry over spilled milk.\", \"There's no such thing as a free lunch.\", 'A bird in the hand is worth two in the bush.', 'Good things come to those who wait.', 'The quick brown fox jumps over the lazy dog.', 'It takes two to tango.', 'A friend in need is a friend indeed.', 'Like father, like son.', 'Let bygones be bygones.', 'Kill two birds with one stone.', 'A penny for your thoughts.', 'I am the master of my fate, I am the captain of my soul.', 'The pen is mightier than the sword.', 'When in Rome, do as the Romans do.', \"Rome wasn't built in a day.\", \"You can't judge a book by its cover.\", \"It's raining cats and dogs.\", 'Make hay while the sun shines.', \"It's better to be safe than sorry.\", 'The early bird catches the worm.', 'To be or not to be, that is the question.', 'Better late than never.']"
   ]
  },
  {
   "cell_type": "markdown",
   "metadata": {},
   "source": [
    "## This tutorial is running from the examples/integrations/tutorials folder, hence we need to add the system path for dspy"
   ]
  },
  {
   "cell_type": "code",
   "execution_count": 5,
   "metadata": {},
   "outputs": [],
   "source": [
    "import sys\n",
    "sys.path.append(\"../../..\")"
   ]
  },
  {
   "cell_type": "markdown",
   "metadata": {},
   "source": [
    "## COLBERT AS RETRIEVER"
   ]
  },
  {
   "cell_type": "code",
   "execution_count": 6,
   "metadata": {},
   "outputs": [
    {
     "name": "stdout",
     "output_type": "stream",
     "text": [
      "Building the index for experiment Colbert-Experiment with index name Colbert-RM\n",
      "\n",
      "\n",
      "[Apr 13, 16:46:52] #> Creating directory /home/athekunal/DSPy-contributions/dspy/examples/integrations/colbert/experiments/Colbert-Experiment/indexes/Colbert-RM \n",
      "\n",
      "\n",
      "#> Starting...\n",
      "nranks = 1 \t num_gpus = 1 \t device=0\n",
      "{\n",
      "    \"query_token_id\": \"[unused0]\",\n",
      "    \"doc_token_id\": \"[unused1]\",\n",
      "    \"query_token\": \"[Q]\",\n",
      "    \"doc_token\": \"[D]\",\n",
      "    \"ncells\": null,\n",
      "    \"centroid_score_threshold\": null,\n",
      "    \"ndocs\": null,\n",
      "    \"load_index_with_mmap\": false,\n",
      "    \"index_path\": null,\n",
      "    \"index_bsize\": 64,\n",
      "    \"nbits\": 1,\n",
      "    \"kmeans_niters\": 20,\n",
      "    \"resume\": false,\n",
      "    \"similarity\": \"cosine\",\n",
      "    \"bsize\": 64,\n",
      "    \"accumsteps\": 1,\n",
      "    \"lr\": 1e-5,\n",
      "    \"maxsteps\": 400000,\n",
      "    \"save_every\": null,\n",
      "    \"warmup\": 20000,\n",
      "    \"warmup_bert\": null,\n",
      "    \"relu\": false,\n",
      "    \"nway\": 64,\n",
      "    \"use_ib_negatives\": true,\n",
      "    \"reranker\": false,\n",
      "    \"distillation_alpha\": 1.0,\n",
      "    \"ignore_scores\": false,\n",
      "    \"model_name\": null,\n",
      "    \"query_maxlen\": 32,\n",
      "    \"attend_to_mask_tokens\": false,\n",
      "    \"interaction\": \"colbert\",\n",
      "    \"dim\": 128,\n",
      "    \"doc_maxlen\": 180,\n",
      "    \"mask_punctuation\": true,\n",
      "    \"checkpoint\": \"colbert-ir\\/colbertv2.0\",\n",
      "    \"triples\": \"\\/future\\/u\\/okhattab\\/root\\/unit\\/experiments\\/2021.10\\/downstream.distillation.round2.2_score\\/round2.nway6.cosine.ib\\/examples.64.json\",\n",
      "    \"collection\": [\n",
      "        \"It's a piece of cake.\",\n",
      "        \"Don't put off until tomorrow what you can do today.\",\n",
      "        \"To kill two birds with one stone.\",\n",
      "        \"Actions speak louder than words.\",\n",
      "        \"Honesty is the best policy.\",\n",
      "        \"If you want something done right, do it yourself.\",\n",
      "        \"The best things in life are free.\",\n",
      "        \"Don't count your chickens before they hatch.\",\n",
      "        \"She sells seashells by the seashore.\",\n",
      "        \"Practice makes perfect.\",\n",
      "        \"Where there's a will, there's a way.\",\n",
      "        \"Absence makes the heart grow fonder.\",\n",
      "        \"When the going gets tough, the tough get going.\",\n",
      "        \"A journey of a thousand miles begins with a single step.\",\n",
      "        \"You can't have your cake and eat it too.\",\n",
      "        \"If you can't beat them, join them.\",\n",
      "        \"Keep your friends close and your enemies closer.\",\n",
      "        \"Don't put all your eggs in one basket.\",\n",
      "        \"All's fair in love and war.\",\n",
      "        \"Every dog has its day.\",\n",
      "        \"All good things must come to an end.\",\n",
      "        \"Once bitten, twice shy.\",\n",
      "        \"The apple doesn't fall far from the tree.\",\n",
      "        \"A penny saved is a penny earned.\",\n",
      "        \"Don't bite the hand that feeds you.\",\n",
      "        \"You reap what you sow.\",\n",
      "        \"An apple a day keeps the doctor away.\",\n",
      "        \"One man's trash is another man's treasure.\",\n",
      "        \"The squeaky wheel gets the grease.\",\n",
      "        \"A picture is worth a thousand words.\",\n",
      "        \"Fortune favors the bold.\",\n",
      "        \"Practice what you preach.\",\n",
      "        \"A watched pot never boils.\",\n",
      "        \"No pain, no gain.\",\n",
      "        \"You can't make an omelet without breaking eggs.\",\n",
      "        \"There's no place like home.\",\n",
      "        \"Ask and you shall receive.\",\n",
      "        \"Let sleeping dogs lie.\",\n",
      "        \"If the shoe fits, wear it.\",\n",
      "        \"Every cloud has a silver lining.\",\n",
      "        \"Look before you leap.\",\n",
      "        \"The more, the merrier.\",\n",
      "        \"The grass is always greener on the other side.\",\n",
      "        \"Beauty is only skin deep.\",\n",
      "        \"Two wrongs don't make a right.\",\n",
      "        \"Beauty is in the eye of the beholder.\",\n",
      "        \"Necessity is the mother of invention.\",\n",
      "        \"Out of sight, out of mind.\",\n",
      "        \"Patience is a virtue.\",\n",
      "        \"Curiosity killed the cat.\",\n",
      "        \"If at first you don't succeed, try, try again.\",\n",
      "        \"Beggars can't be choosers.\",\n",
      "        \"Too many cooks spoil the broth.\",\n",
      "        \"Easy come, easy go.\",\n",
      "        \"Don't cry over spilled milk.\",\n",
      "        \"There's no such thing as a free lunch.\",\n",
      "        \"A bird in the hand is worth two in the bush.\",\n",
      "        \"Good things come to those who wait.\",\n",
      "        \"The quick brown fox jumps over the lazy dog.\",\n",
      "        \"It takes two to tango.\",\n",
      "        \"A friend in need is a friend indeed.\",\n",
      "        \"Like father, like son.\",\n",
      "        \"Let bygones be bygones.\",\n",
      "        \"Kill two birds with one stone.\",\n",
      "        \"A penny for your thoughts.\",\n",
      "        \"I am the master of my fate, I am the captain of my soul.\",\n",
      "        \"The pen is mightier than the sword.\",\n",
      "        \"When in Rome, do as the Romans do.\",\n",
      "        \"Rome wasn't built in a day.\",\n",
      "        \"You can't judge a book by its cover.\",\n",
      "        \"It's raining cats and dogs.\",\n",
      "        \"Make hay while the sun shines.\",\n",
      "        \"It's better to be safe than sorry.\",\n",
      "        \"The early bird catches the worm.\",\n",
      "        \"To be or not to be, that is the question.\",\n",
      "        \"Better late than never.\"\n",
      "    ],\n",
      "    \"queries\": \"\\/future\\/u\\/okhattab\\/data\\/MSMARCO\\/queries.train.tsv\",\n",
      "    \"index_name\": \"Colbert-RM\",\n",
      "    \"overwrite\": false,\n",
      "    \"root\": \"\\/home\\/athekunal\\/DSPy-contributions\\/dspy\\/examples\\/integrations\\/colbert\\/experiments\",\n",
      "    \"experiment\": \"Colbert-Experiment\",\n",
      "    \"index_root\": null,\n",
      "    \"name\": \"2024-04\\/13\\/16.46.49\",\n",
      "    \"rank\": 0,\n",
      "    \"nranks\": 1,\n",
      "    \"amp\": true,\n",
      "    \"gpus\": 1,\n",
      "    \"avoid_fork_if_possible\": false\n",
      "}\n",
      "[Apr 13, 16:46:56] [0] \t\t # of sampled PIDs = 76 \t sampled_pids[:3] = [53, 1, 38]\n",
      "[Apr 13, 16:46:56] [0] \t\t #> Encoding 76 passages..\n",
      "[Apr 13, 16:46:57] [0] \t\t avg_doclen_est = 10.078947067260742 \t len(local_sample) = 76\n",
      "[Apr 13, 16:46:57] [0] \t\t Creating 256 partitions.\n",
      "[Apr 13, 16:46:57] [0] \t\t *Estimated* 765 embeddings.\n",
      "[Apr 13, 16:46:57] [0] \t\t #> Saving the indexing plan to /home/athekunal/DSPy-contributions/dspy/examples/integrations/colbert/experiments/Colbert-Experiment/indexes/Colbert-RM/plan.json ..\n"
     ]
    },
    {
     "name": "stderr",
     "output_type": "stream",
     "text": [
      "WARNING clustering 728 points to 256 centroids: please provide at least 9984 training points\n",
      "Using /home/athekunal/.cache/torch_extensions/py310_cu117 as PyTorch extensions root...\n",
      "Detected CUDA files, patching ldflags\n",
      "Emitting ninja build file /home/athekunal/.cache/torch_extensions/py310_cu117/decompress_residuals_cpp/build.ninja...\n",
      "Building extension module decompress_residuals_cpp...\n",
      "Allowing ninja to set a default number of workers... (overridable by setting the environment variable MAX_JOBS=N)\n",
      "Loading extension module decompress_residuals_cpp...\n",
      "Using /home/athekunal/.cache/torch_extensions/py310_cu117 as PyTorch extensions root...\n",
      "Detected CUDA files, patching ldflags\n",
      "Emitting ninja build file /home/athekunal/.cache/torch_extensions/py310_cu117/packbits_cpp/build.ninja...\n",
      "Building extension module packbits_cpp...\n",
      "Allowing ninja to set a default number of workers... (overridable by setting the environment variable MAX_JOBS=N)\n",
      "Loading extension module packbits_cpp...\n",
      "0it [00:00, ?it/s]"
     ]
    },
    {
     "name": "stdout",
     "output_type": "stream",
     "text": [
      "Clustering 728 points in 128D to 256 clusters, redo 1 times, 20 iterations\n",
      "  Preprocessing in 0.00 s\n",
      "  Iteration 19 (0.05 s, search 0.05 s): objective=155.376 imbalance=1.400 nsplit=0       \n",
      "[Apr 13, 16:46:58] Loading decompress_residuals_cpp extension (set COLBERT_LOAD_TORCH_EXTENSION_VERBOSE=True for more info)...\n",
      "ninja: no work to do.\n",
      "[Apr 13, 16:46:58] Loading packbits_cpp extension (set COLBERT_LOAD_TORCH_EXTENSION_VERBOSE=True for more info)...\n",
      "ninja: no work to do.\n",
      "[0.053, 0.05, 0.061, 0.053, 0.044, 0.06, 0.047, 0.049, 0.064, 0.05, 0.051, 0.057, 0.052, 0.042, 0.061, 0.069, 0.052, 0.051, 0.063, 0.043, 0.04, 0.052, 0.043, 0.042, 0.035, 0.055, 0.07, 0.048, 0.051, 0.04, 0.057, 0.045, 0.054, 0.052, 0.042, 0.051, 0.048, 0.047, 0.056, 0.059, 0.05, 0.063, 0.054, 0.06, 0.046, 0.051, 0.04, 0.071, 0.04, 0.049, 0.056, 0.043, 0.048, 0.051, 0.045, 0.052, 0.041, 0.073, 0.039, 0.045, 0.052, 0.056, 0.053, 0.06, 0.041, 0.053, 0.054, 0.052, 0.051, 0.05, 0.061, 0.053, 0.035, 0.05, 0.049, 0.057, 0.045, 0.044, 0.05, 0.05, 0.041, 0.048, 0.043, 0.049, 0.05, 0.039, 0.056, 0.055, 0.048, 0.045, 0.044, 0.041, 0.046, 0.044, 0.046, 0.064, 0.056, 0.054, 0.058, 0.04, 0.043, 0.045, 0.051, 0.058, 0.06, 0.043, 0.057, 0.043, 0.053, 0.056, 0.047, 0.039, 0.057, 0.044, 0.055, 0.063, 0.041, 0.047, 0.049, 0.051, 0.046, 0.042, 0.053, 0.045, 0.044, 0.053, 0.053, 0.046]\n",
      "[Apr 13, 16:46:58] #> Got bucket_cutoffs_quantiles = tensor([0.5000], device='cuda:0') and bucket_weights_quantiles = tensor([0.2500, 0.7500], device='cuda:0')\n",
      "[Apr 13, 16:46:58] #> Got bucket_cutoffs = tensor([0.0007], device='cuda:0') and bucket_weights = tensor([-0.0378,  0.0386], device='cuda:0')\n",
      "[Apr 13, 16:46:58] avg_residual = 0.050323486328125\n",
      "[Apr 13, 16:46:58] [0] \t\t #> Encoding 76 passages..\n",
      "[Apr 13, 16:46:58] [0] \t\t #> Saving chunk 0: \t 76 passages and 766 embeddings. From #0 onward.\n",
      "[Apr 13, 16:46:58] [0] \t\t #> Checking all files were saved...\n",
      "[Apr 13, 16:46:58] [0] \t\t Found all files!\n",
      "[Apr 13, 16:46:58] [0] \t\t #> Building IVF...\n",
      "[Apr 13, 16:46:58] [0] \t\t #> Loading codes...\n",
      "[Apr 13, 16:46:58] [0] \t\t Sorting codes...\n",
      "[Apr 13, 16:46:58] [0] \t\t Getting unique codes...\n",
      "[Apr 13, 16:46:58] #> Optimizing IVF to store map from centroids to list of pids..\n",
      "[Apr 13, 16:46:58] #> Building the emb2pid mapping..\n",
      "[Apr 13, 16:46:58] len(emb2pid) = 766\n",
      "[Apr 13, 16:46:58] #> Saved optimized IVF to /home/athekunal/DSPy-contributions/dspy/examples/integrations/colbert/experiments/Colbert-Experiment/indexes/Colbert-RM/ivf.pid.pt\n",
      "[Apr 13, 16:46:58] [0] \t\t #> Saving the indexing metadata to /home/athekunal/DSPy-contributions/dspy/examples/integrations/colbert/experiments/Colbert-Experiment/indexes/Colbert-RM/metadata.json ..\n"
     ]
    },
    {
     "name": "stderr",
     "output_type": "stream",
     "text": [
      "1it [00:00, 15.27it/s]\n",
      "100%|██████████| 1/1 [00:00<00:00, 3551.49it/s]\n",
      "100%|██████████| 256/256 [00:00<00:00, 281526.44it/s]\n"
     ]
    },
    {
     "name": "stdout",
     "output_type": "stream",
     "text": [
      "#> Joined...\n",
      "Loading the index for experiment Colbert-Experiment with index name Colbert-RM\n",
      "[Apr 13, 16:47:02] #> Loading codec...\n",
      "[Apr 13, 16:47:02] Loading decompress_residuals_cpp extension (set COLBERT_LOAD_TORCH_EXTENSION_VERBOSE=True for more info)...\n"
     ]
    },
    {
     "name": "stderr",
     "output_type": "stream",
     "text": [
      "Using /home/athekunal/.cache/torch_extensions/py310_cu117 as PyTorch extensions root...\n",
      "Detected CUDA files, patching ldflags\n",
      "Emitting ninja build file /home/athekunal/.cache/torch_extensions/py310_cu117/decompress_residuals_cpp/build.ninja...\n",
      "Building extension module decompress_residuals_cpp...\n",
      "Allowing ninja to set a default number of workers... (overridable by setting the environment variable MAX_JOBS=N)\n"
     ]
    },
    {
     "name": "stdout",
     "output_type": "stream",
     "text": [
      "ninja: no work to do.\n",
      "[Apr 13, 16:47:02] Loading packbits_cpp extension (set COLBERT_LOAD_TORCH_EXTENSION_VERBOSE=True for more info)...\n"
     ]
    },
    {
     "name": "stderr",
     "output_type": "stream",
     "text": [
      "Loading extension module decompress_residuals_cpp...\n",
      "Using /home/athekunal/.cache/torch_extensions/py310_cu117 as PyTorch extensions root...\n",
      "Detected CUDA files, patching ldflags\n",
      "Emitting ninja build file /home/athekunal/.cache/torch_extensions/py310_cu117/packbits_cpp/build.ninja...\n",
      "Building extension module packbits_cpp...\n",
      "Allowing ninja to set a default number of workers... (overridable by setting the environment variable MAX_JOBS=N)\n"
     ]
    },
    {
     "name": "stdout",
     "output_type": "stream",
     "text": [
      "ninja: no work to do.\n",
      "[Apr 13, 16:47:02] #> Loading IVF...\n",
      "[Apr 13, 16:47:02] #> Loading doclens...\n"
     ]
    },
    {
     "name": "stderr",
     "output_type": "stream",
     "text": [
      "Loading extension module packbits_cpp...\n",
      "100%|██████████| 1/1 [00:00<00:00, 4969.55it/s]"
     ]
    },
    {
     "name": "stdout",
     "output_type": "stream",
     "text": [
      "[Apr 13, 16:47:02] #> Loading codes and residuals...\n"
     ]
    },
    {
     "name": "stderr",
     "output_type": "stream",
     "text": [
      "\n",
      "100%|██████████| 1/1 [00:00<00:00, 805.05it/s]\n"
     ]
    }
   ],
   "source": [
    "import dspy\n",
    "colbert_config = ColBERTConfig()\n",
    "colbert_config.index_name = \"Colbert-RM\"\n",
    "colbert_config.experiment = \"Colbert-Experiment\"\n",
    "colbert_config.checkpoint = \"colbert-ir/colbertv2.0\"\n",
    "colbert_retriever = dspy.ColBERTv2RetrieverLocal(\n",
    "    passages = passages,load_only=False,\n",
    "    colbert_config=colbert_config\n",
    ")"
   ]
  },
  {
   "cell_type": "code",
   "execution_count": 7,
   "metadata": {},
   "outputs": [],
   "source": [
    "#CONFIGURE COLBERT IN DSPY\n",
    "dspy.settings.configure(rm=colbert_retriever)\n",
    "\n",
    "retrieved_docs = dspy.Retrieve(k=5)"
   ]
  },
  {
   "cell_type": "code",
   "execution_count": 8,
   "metadata": {},
   "outputs": [
    {
     "name": "stdout",
     "output_type": "stream",
     "text": [
      "\n",
      "#> QueryTokenizer.tensorize(batch_text[0], batch_background[0], bsize) ==\n",
      "#> Input: . What is the meaning of life?, \t\t True, \t\t None\n",
      "#> Output IDs: torch.Size([32]), tensor([ 101,    1, 2054, 2003, 1996, 3574, 1997, 2166, 1029,  102,  103,  103,\n",
      "         103,  103,  103,  103,  103,  103,  103,  103,  103,  103,  103,  103,\n",
      "         103,  103,  103,  103,  103,  103,  103,  103], device='cuda:0')\n",
      "#> Output Mask: torch.Size([32]), tensor([1, 1, 1, 1, 1, 1, 1, 1, 1, 1, 0, 0, 0, 0, 0, 0, 0, 0, 0, 0, 0, 0, 0, 0,\n",
      "        0, 0, 0, 0, 0, 0, 0, 0], device='cuda:0')\n",
      "\n"
     ]
    }
   ],
   "source": [
    "pred = retrieved_docs(\n",
    "    \"What is the meaning of life?\"\n",
    ")"
   ]
  },
  {
   "cell_type": "code",
   "execution_count": 9,
   "metadata": {},
   "outputs": [
    {
     "data": {
      "text/plain": [
       "Prediction(\n",
       "    pid=[33, 6, 47, 74, 48],\n",
       "    passages=['No pain, no gain.', 'The best things in life are free.', 'Out of sight, out of mind.', 'To be or not to be, that is the question.', 'Patience is a virtue.']\n",
       ")"
      ]
     },
     "execution_count": 9,
     "metadata": {},
     "output_type": "execute_result"
    }
   ],
   "source": [
    "pred"
   ]
  },
  {
   "cell_type": "markdown",
   "metadata": {},
   "source": [
    "## COLBERT AS RERANKER"
   ]
  },
  {
   "cell_type": "code",
   "execution_count": 10,
   "metadata": {},
   "outputs": [],
   "source": [
    "colbert_config = ColBERTConfig()\n",
    "colbert_config.index_name = 'colbert-ir-index'\n",
    "colbert_reranker = dspy.ColBERTv2RerankerLocal(\n",
    "    checkpoint='colbert-ir/colbertv2.0',colbert_config=colbert_config)"
   ]
  },
  {
   "cell_type": "code",
   "execution_count": 11,
   "metadata": {},
   "outputs": [],
   "source": [
    "dspy.settings.configure(rm=colbert_retriever,reranker=colbert_reranker)\n",
    "\n",
    "retrieve_rerank = dspy.RetrieveThenRerank(k=5)"
   ]
  },
  {
   "cell_type": "code",
   "execution_count": 12,
   "metadata": {},
   "outputs": [],
   "source": [
    "pred = retrieve_rerank(\n",
    "    [\"What is the meaning of life?\",\"Meaning of pain?\"]\n",
    ")"
   ]
  },
  {
   "cell_type": "code",
   "execution_count": 13,
   "metadata": {},
   "outputs": [
    {
     "data": {
      "text/plain": [
       "[Prediction(\n",
       "     pid=[6, 48, 74, 47, 33],\n",
       "     rerank_score=[15.8359375, 14.2109375, 12.5703125, 11.7890625, 9.1796875],\n",
       "     passages=['The best things in life are free.', 'Patience is a virtue.', 'To be or not to be, that is the question.', 'Out of sight, out of mind.', 'No pain, no gain.']\n",
       " ),\n",
       " Prediction(\n",
       "     pid=[33, 0, 47, 74, 16],\n",
       "     rerank_score=[19.828125, 12.2890625, 11.171875, 9.09375, 6.8984375],\n",
       "     passages=['No pain, no gain.', \"It's a piece of cake.\", 'Out of sight, out of mind.', 'To be or not to be, that is the question.', 'Keep your friends close and your enemies closer.']\n",
       " )]"
      ]
     },
     "execution_count": 13,
     "metadata": {},
     "output_type": "execute_result"
    }
   ],
   "source": [
    "pred"
   ]
  },
  {
   "cell_type": "markdown",
   "metadata": {},
   "source": [
    "## YOU CAN ALSO COLBERT RERANKER AS STANDALONE MODEL"
   ]
  },
  {
   "cell_type": "code",
   "execution_count": 14,
   "metadata": {},
   "outputs": [],
   "source": [
    "import numpy as np\n",
    "import tabulate\n",
    "\n",
    "scores_arr = colbert_reranker(\n",
    "    \"What is the meaning of life and pain?\",\n",
    "    # Pass a subset of passages\n",
    "    passages[:10]\n",
    ")\n",
    "\n",
    "tabulate_data = []\n",
    "for idx in np.argsort(scores_arr)[::-1]:\n",
    "    # print(f\"Passage = {passages[idx]} --> Score = {scores_arr[idx]}\")\n",
    "    tabulate_data.append([passages[idx],scores_arr[idx]])\n",
    "\n",
    "table = tabulate.tabulate(tabulate_data,tablefmt=\"html\",headers={'sentence','score'})"
   ]
  },
  {
   "cell_type": "code",
   "execution_count": 15,
   "metadata": {},
   "outputs": [
    {
     "data": {
      "text/html": [
       "<table>\n",
       "<thead>\n",
       "<tr><th>score                                              </th><th style=\"text-align: right;\">  sentence</th></tr>\n",
       "</thead>\n",
       "<tbody>\n",
       "<tr><td>The best things in life are free.                  </td><td style=\"text-align: right;\">  12.5156 </td></tr>\n",
       "<tr><td>It&#x27;s a piece of cake.                              </td><td style=\"text-align: right;\">  10      </td></tr>\n",
       "<tr><td>Practice makes perfect.                            </td><td style=\"text-align: right;\">   8.27344</td></tr>\n",
       "<tr><td>Honesty is the best policy.                        </td><td style=\"text-align: right;\">   7.57422</td></tr>\n",
       "<tr><td>To kill two birds with one stone.                  </td><td style=\"text-align: right;\">   7.51953</td></tr>\n",
       "<tr><td>Actions speak louder than words.                   </td><td style=\"text-align: right;\">   7.05469</td></tr>\n",
       "<tr><td>If you want something done right, do it yourself.  </td><td style=\"text-align: right;\">   6.52344</td></tr>\n",
       "<tr><td>Don&#x27;t put off until tomorrow what you can do today.</td><td style=\"text-align: right;\">   3.78711</td></tr>\n",
       "<tr><td>She sells seashells by the seashore.               </td><td style=\"text-align: right;\">   2.77148</td></tr>\n",
       "<tr><td>Don&#x27;t count your chickens before they hatch.       </td><td style=\"text-align: right;\">   1.82227</td></tr>\n",
       "</tbody>\n",
       "</table>"
      ],
      "text/plain": [
       "<IPython.core.display.HTML object>"
      ]
     },
     "metadata": {},
     "output_type": "display_data"
    }
   ],
   "source": [
    "from IPython.display import HTML, display\n",
    "display(HTML(table))"
   ]
  },
  {
   "cell_type": "code",
   "execution_count": null,
   "metadata": {},
   "outputs": [],
   "source": []
  }
 ],
 "metadata": {
  "kernelspec": {
   "display_name": ".venv",
   "language": "python",
   "name": "python3"
  },
  "language_info": {
   "codemirror_mode": {
    "name": "ipython",
    "version": 3
   },
   "file_extension": ".py",
   "mimetype": "text/x-python",
   "name": "python",
   "nbconvert_exporter": "python",
   "pygments_lexer": "ipython3",
   "version": "3.10.12"
  }
 },
 "nbformat": 4,
 "nbformat_minor": 2
}
